{
 "cells": [
  {
   "cell_type": "code",
   "execution_count": 1,
   "id": "1339d562",
   "metadata": {},
   "outputs": [],
   "source": [
    "import sqlite3 as sql"
   ]
  },
  {
   "cell_type": "code",
   "execution_count": 2,
   "id": "6a62b99b",
   "metadata": {},
   "outputs": [],
   "source": [
    "class DatabaseConnection:\n",
    "    def __init__(self, host):\n",
    "        self.connection = None\n",
    "        self.host = host\n",
    "\n",
    "    def __enter__(self):\n",
    "        self.connection = sql.connect(self.host)\n",
    "        return self.connection\n",
    "\n",
    "    def __exit__(self, exc_type, exc_val, exc_tb):\n",
    "        self.connection.commit()\n",
    "        self.connection.close()"
   ]
  },
  {
   "cell_type": "code",
   "execution_count": 3,
   "id": "e36fff7e",
   "metadata": {},
   "outputs": [],
   "source": [
    "def createOrderTable():\n",
    "    with DatabaseConnection('Database.db') as connection:\n",
    "        cursor = connection.cursor()\n",
    "        cursor.execute('CREATE TABLE Product(product_id integer primary key,price integer)')#,no_of_item integer"
   ]
  },
  {
   "cell_type": "code",
   "execution_count": 4,
   "id": "82aac764",
   "metadata": {},
   "outputs": [],
   "source": [
    "with DatabaseConnection('Database.db') as connection:\n",
    "    cursor = connection.cursor()\n",
    "    cursor.execute('DROP TABLE Product')#,no_of_item integer"
   ]
  },
  {
   "cell_type": "code",
   "execution_count": 5,
   "id": "09649dbd",
   "metadata": {},
   "outputs": [],
   "source": [
    "try:\n",
    "    createOrderTable()\n",
    "except:\n",
    "    print(\"fs\")\n",
    "    pass"
   ]
  },
  {
   "cell_type": "code",
   "execution_count": 6,
   "id": "8b91b481",
   "metadata": {},
   "outputs": [],
   "source": [
    "product_list = [[1,500],[2,100],[3,400],[4,1000],[5,200],[6,700]]\n",
    "product_dicts = {1:\"Bread\",\n",
    "        2:\"Butter\",\n",
    "        3:\"Biscuit\",\n",
    "        4:\"Sweets\",\n",
    "        5:\"noodles\",\n",
    "        6:\"cake\"}\n",
    "list_my_products = []"
   ]
  },
  {
   "cell_type": "code",
   "execution_count": 7,
   "id": "fa5ce991",
   "metadata": {},
   "outputs": [],
   "source": [
    "with DatabaseConnection('Database.db') as connection:\n",
    "    cursor = connection.cursor()\n",
    "    for i in product_list:\n",
    "        try:\n",
    "            cursor.execute('INSERT INTO Product VALUES(?,?)', (i[0], i[1]))\n",
    "        except:\n",
    "            print(\"error\")\n",
    "            pass"
   ]
  },
  {
   "cell_type": "code",
   "execution_count": 8,
   "id": "c1001399",
   "metadata": {},
   "outputs": [],
   "source": [
    "with DatabaseConnection('Database.db') as connection:\n",
    "    cursor = connection.cursor()\n",
    "    cursor.execute('SELECT * FROM Product')\n",
    "    v = cursor.fetchall()"
   ]
  },
  {
   "cell_type": "code",
   "execution_count": 9,
   "id": "87ac0b10",
   "metadata": {},
   "outputs": [
    {
     "name": "stdout",
     "output_type": "stream",
     "text": [
      "*******Wayne SuperMarket Stores*******\n",
      "\n",
      "Enter you Name : Tejas Mohite\n"
     ]
    }
   ],
   "source": [
    "print(\"*******Wayne SuperMarket Stores*******\")\n",
    "print()\n",
    "user_name = input(\"Enter you Name : \")"
   ]
  },
  {
   "cell_type": "code",
   "execution_count": 10,
   "id": "363b3b51",
   "metadata": {},
   "outputs": [],
   "source": [
    "def listProduct(product_dicts,v):\n",
    "    print(\"---------------------------------\")\n",
    "    print(\"List of Products\")\n",
    "    print(\"ID|Name|Price\")\n",
    "    for i in range(len(v)):\n",
    "        print(v[i][0],product_dicts[i+1],v[i][1])\n",
    "    print(\"---------------------------------\")"
   ]
  },
  {
   "cell_type": "code",
   "execution_count": 14,
   "id": "1410c6b9",
   "metadata": {},
   "outputs": [],
   "source": [
    "def buyProduct(list_my_products,product_dicts,v):\n",
    "    try:\n",
    "        id1 = int(input(\"Select Product by ID : \"))\n",
    "        qty = int(input(\"Enter the Quantity : \"))\n",
    "        name = product_dicts[id1]\n",
    "        v_dict = dict(v)\n",
    "        price = v_dict[id1] * qty\n",
    "        list_my_products.append([id1,name,qty,price])\n",
    "        return list_my_products\n",
    "    except ValueError:\n",
    "        print(\"ValueError Exception\")\n",
    "        return list_my_products"
   ]
  },
  {
   "cell_type": "code",
   "execution_count": 19,
   "id": "e2ef97f1",
   "metadata": {},
   "outputs": [],
   "source": [
    "def myBill(list_my_products,user_name):\n",
    "    if len(list_my_products) == 0:\n",
    "        print(\"Please add products to the cart\")\n",
    "    else:\n",
    "        total_price = 0\n",
    "        dis_total_price = 0\n",
    "        f = 0\n",
    "        for i in list_my_products:\n",
    "            total_price += i[3]\n",
    "        if total_price>=4000:\n",
    "            dis = (total_price*10)/100\n",
    "            dis_total_price = (total_price*90)/100\n",
    "            line = \"You got 10% discount\"\n",
    "            f = 1 \n",
    "        print(\"---------------------------------\")\n",
    "        print(\"Bill:\")\n",
    "        if f == 1:\n",
    "            print(line)\n",
    "        print(\"ID|Name|Quantity|Total Price\")\n",
    "        for i in list_my_products:\n",
    "            print(i[0],i[1],i[2],i[3])\n",
    "        print(\"Total Amount : \",total_price)\n",
    "        if f == 1:\n",
    "            print(\"Discount : \", dis)\n",
    "            print(\"Discounted Amount To be paid: \",dis_total_price) \n",
    "            \n",
    "        print(\"---------------------------------\")\n",
    "        with open(user_name+\"_Bill.txt\", 'w') as file:\n",
    "            for row in list_my_products:\n",
    "                s = \" \".join(map(str, row))\n",
    "                file.write(s+'\\n')\n",
    "            file.write(\"Total Amount : \"+str(total_price)+'\\n')\n",
    "            if f == 1:\n",
    "                file.write(\"Discount : \"+str(dis)+'\\n')\n",
    "                file.write(\"Discounted Amount To be paid : \"+str(dis_total_price)) "
   ]
  },
  {
   "cell_type": "code",
   "execution_count": 20,
   "id": "deb88ed9",
   "metadata": {
    "scrolled": true
   },
   "outputs": [
    {
     "name": "stdout",
     "output_type": "stream",
     "text": [
      "1. View List of Products\n",
      "2. Buy Products\n",
      "3. View My Bill\n",
      "4. Exit\n",
      ": 3\n",
      "---------------------------------\n",
      "Bill:\n",
      "You got 10% discount\n",
      "ID|Name|Quantity|Total Price\n",
      "3 Biscuit 2 800\n",
      "4 Sweets 1 1000\n",
      "1 Bread 5 2500\n",
      "5 noodles 4 800\n",
      "3 Biscuit 1 400\n",
      "5 noodles 1 200\n",
      "Total Amount :  5700\n",
      "Discount :  570.0\n",
      "Discounted Amount To be paid:  5130.0\n",
      "---------------------------------\n",
      "1. View List of Products\n",
      "2. Buy Products\n",
      "3. View My Bill\n",
      "4. Exit\n"
     ]
    },
    {
     "ename": "KeyboardInterrupt",
     "evalue": "Interrupted by user",
     "output_type": "error",
     "traceback": [
      "\u001b[1;31m---------------------------------------------------------------------------\u001b[0m",
      "\u001b[1;31mKeyboardInterrupt\u001b[0m                         Traceback (most recent call last)",
      "\u001b[1;32m~\\AppData\\Local\\Temp/ipykernel_1480/2516231597.py\u001b[0m in \u001b[0;36m<module>\u001b[1;34m\u001b[0m\n\u001b[0;32m      4\u001b[0m     \u001b[0mprint\u001b[0m\u001b[1;33m(\u001b[0m\u001b[1;34m\"3. View My Bill\"\u001b[0m\u001b[1;33m)\u001b[0m\u001b[1;33m\u001b[0m\u001b[1;33m\u001b[0m\u001b[0m\n\u001b[0;32m      5\u001b[0m     \u001b[0mprint\u001b[0m\u001b[1;33m(\u001b[0m\u001b[1;34m\"4. Exit\"\u001b[0m\u001b[1;33m)\u001b[0m\u001b[1;33m\u001b[0m\u001b[1;33m\u001b[0m\u001b[0m\n\u001b[1;32m----> 6\u001b[1;33m     \u001b[0muser_input\u001b[0m \u001b[1;33m=\u001b[0m \u001b[0minput\u001b[0m\u001b[1;33m(\u001b[0m\u001b[1;34m\": \"\u001b[0m\u001b[1;33m)\u001b[0m\u001b[1;33m\u001b[0m\u001b[1;33m\u001b[0m\u001b[0m\n\u001b[0m\u001b[0;32m      7\u001b[0m \u001b[1;33m\u001b[0m\u001b[0m\n\u001b[0;32m      8\u001b[0m     \u001b[1;32mif\u001b[0m \u001b[0muser_input\u001b[0m \u001b[1;33m==\u001b[0m \u001b[1;34m'1'\u001b[0m\u001b[1;33m:\u001b[0m\u001b[1;33m\u001b[0m\u001b[1;33m\u001b[0m\u001b[0m\n",
      "\u001b[1;32m~\\anaconda3\\envs\\myenv\\lib\\site-packages\\ipykernel\\kernelbase.py\u001b[0m in \u001b[0;36mraw_input\u001b[1;34m(self, prompt)\u001b[0m\n\u001b[0;32m   1004\u001b[0m                 \u001b[1;34m\"raw_input was called, but this frontend does not support input requests.\"\u001b[0m\u001b[1;33m\u001b[0m\u001b[1;33m\u001b[0m\u001b[0m\n\u001b[0;32m   1005\u001b[0m             )\n\u001b[1;32m-> 1006\u001b[1;33m         return self._input_request(\n\u001b[0m\u001b[0;32m   1007\u001b[0m             \u001b[0mstr\u001b[0m\u001b[1;33m(\u001b[0m\u001b[0mprompt\u001b[0m\u001b[1;33m)\u001b[0m\u001b[1;33m,\u001b[0m\u001b[1;33m\u001b[0m\u001b[1;33m\u001b[0m\u001b[0m\n\u001b[0;32m   1008\u001b[0m             \u001b[0mself\u001b[0m\u001b[1;33m.\u001b[0m\u001b[0m_parent_ident\u001b[0m\u001b[1;33m[\u001b[0m\u001b[1;34m\"shell\"\u001b[0m\u001b[1;33m]\u001b[0m\u001b[1;33m,\u001b[0m\u001b[1;33m\u001b[0m\u001b[1;33m\u001b[0m\u001b[0m\n",
      "\u001b[1;32m~\\anaconda3\\envs\\myenv\\lib\\site-packages\\ipykernel\\kernelbase.py\u001b[0m in \u001b[0;36m_input_request\u001b[1;34m(self, prompt, ident, parent, password)\u001b[0m\n\u001b[0;32m   1049\u001b[0m             \u001b[1;32mexcept\u001b[0m \u001b[0mKeyboardInterrupt\u001b[0m\u001b[1;33m:\u001b[0m\u001b[1;33m\u001b[0m\u001b[1;33m\u001b[0m\u001b[0m\n\u001b[0;32m   1050\u001b[0m                 \u001b[1;31m# re-raise KeyboardInterrupt, to truncate traceback\u001b[0m\u001b[1;33m\u001b[0m\u001b[1;33m\u001b[0m\u001b[0m\n\u001b[1;32m-> 1051\u001b[1;33m                 \u001b[1;32mraise\u001b[0m \u001b[0mKeyboardInterrupt\u001b[0m\u001b[1;33m(\u001b[0m\u001b[1;34m\"Interrupted by user\"\u001b[0m\u001b[1;33m)\u001b[0m \u001b[1;32mfrom\u001b[0m \u001b[1;32mNone\u001b[0m\u001b[1;33m\u001b[0m\u001b[1;33m\u001b[0m\u001b[0m\n\u001b[0m\u001b[0;32m   1052\u001b[0m             \u001b[1;32mexcept\u001b[0m \u001b[0mException\u001b[0m\u001b[1;33m:\u001b[0m\u001b[1;33m\u001b[0m\u001b[1;33m\u001b[0m\u001b[0m\n\u001b[0;32m   1053\u001b[0m                 \u001b[0mself\u001b[0m\u001b[1;33m.\u001b[0m\u001b[0mlog\u001b[0m\u001b[1;33m.\u001b[0m\u001b[0mwarning\u001b[0m\u001b[1;33m(\u001b[0m\u001b[1;34m\"Invalid Message:\"\u001b[0m\u001b[1;33m,\u001b[0m \u001b[0mexc_info\u001b[0m\u001b[1;33m=\u001b[0m\u001b[1;32mTrue\u001b[0m\u001b[1;33m)\u001b[0m\u001b[1;33m\u001b[0m\u001b[1;33m\u001b[0m\u001b[0m\n",
      "\u001b[1;31mKeyboardInterrupt\u001b[0m: Interrupted by user"
     ]
    }
   ],
   "source": [
    "while True:\n",
    "    print(\"1. View List of Products\")\n",
    "    print(\"2. Buy Products\")\n",
    "    print(\"3. View My Bill\")\n",
    "    print(\"4. Exit\")\n",
    "    user_input = input(\": \")\n",
    "\n",
    "    if user_input == '1':\n",
    "        listProduct(product_dicts,v)\n",
    "    elif user_input == '2':\n",
    "        list_my_products = buyProduct(list_my_products,product_dicts,v)\n",
    "    elif user_input == '3':\n",
    "        myBill(list_my_products,user_name)\n",
    "    elif user_input == '4':\n",
    "        break\n",
    "    else:\n",
    "        print(\"Unknown command : %s\" % user_input)"
   ]
  },
  {
   "cell_type": "code",
   "execution_count": null,
   "id": "892dfd9a",
   "metadata": {},
   "outputs": [],
   "source": []
  },
  {
   "cell_type": "code",
   "execution_count": null,
   "id": "91b582a2",
   "metadata": {},
   "outputs": [],
   "source": []
  },
  {
   "cell_type": "code",
   "execution_count": null,
   "id": "c434001c",
   "metadata": {},
   "outputs": [],
   "source": []
  },
  {
   "cell_type": "code",
   "execution_count": null,
   "id": "45efec1a",
   "metadata": {},
   "outputs": [],
   "source": []
  },
  {
   "cell_type": "code",
   "execution_count": null,
   "id": "e4fab31b",
   "metadata": {},
   "outputs": [],
   "source": []
  },
  {
   "cell_type": "code",
   "execution_count": null,
   "id": "05959530",
   "metadata": {},
   "outputs": [],
   "source": []
  }
 ],
 "metadata": {
  "kernelspec": {
   "display_name": "Python 3 (ipykernel)",
   "language": "python",
   "name": "python3"
  },
  "language_info": {
   "codemirror_mode": {
    "name": "ipython",
    "version": 3
   },
   "file_extension": ".py",
   "mimetype": "text/x-python",
   "name": "python",
   "nbconvert_exporter": "python",
   "pygments_lexer": "ipython3",
   "version": "3.9.7"
  }
 },
 "nbformat": 4,
 "nbformat_minor": 5
}
